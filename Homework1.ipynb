{
 "cells": [
  {
   "cell_type": "markdown",
   "id": "b7511fee",
   "metadata": {},
   "source": [
    "# Homework\n",
    "Save all the Etot in a list and save them in a file from the 03_Prod.mdout\n",
    "Find every instance of Etot (one for each timestep), save them to a list, print them to a file."
   ]
  },
  {
   "cell_type": "code",
   "execution_count": 1,
   "id": "199d5521",
   "metadata": {},
   "outputs": [],
   "source": [
    "import os"
   ]
  },
  {
   "cell_type": "code",
   "execution_count": 2,
   "id": "85e22e85",
   "metadata": {},
   "outputs": [],
   "source": [
    "import glob"
   ]
  },
  {
   "cell_type": "code",
   "execution_count": 3,
   "id": "8119a4ba",
   "metadata": {},
   "outputs": [],
   "source": [
    "file = os.path.join('data','03_Prod.mdout')"
   ]
  },
  {
   "cell_type": "code",
   "execution_count": 4,
   "id": "091816f9",
   "metadata": {},
   "outputs": [],
   "source": [
    "datafile = open('Etots.txt', 'w+')\n",
    "outfile = open(file,'r')\n",
    "data = outfile.readlines()\n",
    "outfile.close()"
   ]
  },
  {
   "cell_type": "code",
   "execution_count": null,
   "id": "eb668ba9",
   "metadata": {},
   "outputs": [],
   "source": []
  },
  {
   "cell_type": "code",
   "execution_count": 5,
   "id": "4a3073e6",
   "metadata": {},
   "outputs": [],
   "source": [
    "for line in data:\n",
    "    if 'Etot' in line:\n",
    "        energy_line = line.split()\n",
    "        datafile.write(F'{energy_line[0]} = {energy_line[2]} \\n')\n",
    "datafile.close()"
   ]
  },
  {
   "cell_type": "code",
   "execution_count": null,
   "id": "88d394d5",
   "metadata": {},
   "outputs": [],
   "source": []
  }
 ],
 "metadata": {
  "kernelspec": {
   "display_name": "Python 3",
   "language": "python",
   "name": "python3"
  },
  "language_info": {
   "codemirror_mode": {
    "name": "ipython",
    "version": 3
   },
   "file_extension": ".py",
   "mimetype": "text/x-python",
   "name": "python",
   "nbconvert_exporter": "python",
   "pygments_lexer": "ipython3",
   "version": "3.8.8"
  }
 },
 "nbformat": 4,
 "nbformat_minor": 5
}
