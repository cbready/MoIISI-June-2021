{
 "cells": [
  {
   "cell_type": "markdown",
   "id": "e20132b2",
   "metadata": {},
   "source": [
    "# File parsing\n",
    "MoISSI workshop lesson about file parsing"
   ]
  },
  {
   "cell_type": "code",
   "execution_count": 1,
   "id": "2c332321",
   "metadata": {},
   "outputs": [],
   "source": [
    "# NEVER DO THIS; IT IS A BAD PRACTICE\n",
    "#outfile = open('data/outfiles/ethanol.out', 'r')"
   ]
  },
  {
   "cell_type": "code",
   "execution_count": 2,
   "id": "309d8121",
   "metadata": {},
   "outputs": [
    {
     "data": {
      "text/plain": [
       "'C:\\\\Users\\\\cbrea\\\\Desktop\\\\cms-workshop'"
      ]
     },
     "execution_count": 2,
     "metadata": {},
     "output_type": "execute_result"
    }
   ],
   "source": [
    "pwd"
   ]
  },
  {
   "cell_type": "code",
   "execution_count": 3,
   "id": "6dafd744",
   "metadata": {},
   "outputs": [],
   "source": [
    "import os"
   ]
  },
  {
   "cell_type": "code",
   "execution_count": 4,
   "id": "448d40a0",
   "metadata": {},
   "outputs": [
    {
     "name": "stdout",
     "output_type": "stream",
     "text": [
      "data\\outfiles\\ethanol.out\n"
     ]
    }
   ],
   "source": [
    "ethanol_file = os.path.join('data','outfiles','ethanol.out')\n",
    "print(ethanol_file)"
   ]
  },
  {
   "cell_type": "code",
   "execution_count": 5,
   "id": "dbe661af",
   "metadata": {},
   "outputs": [],
   "source": [
    "outfile = open(ethanol_file,'r')"
   ]
  },
  {
   "cell_type": "code",
   "execution_count": 6,
   "id": "7af9e5e0",
   "metadata": {},
   "outputs": [],
   "source": [
    "data = outfile.readlines()"
   ]
  },
  {
   "cell_type": "code",
   "execution_count": 7,
   "id": "230d9288",
   "metadata": {},
   "outputs": [],
   "source": [
    "outfile.close()"
   ]
  },
  {
   "cell_type": "code",
   "execution_count": 8,
   "id": "475b9eb3",
   "metadata": {},
   "outputs": [],
   "source": [
    "# Using the commands that you already know, figure out how many lines are in the file."
   ]
  },
  {
   "cell_type": "code",
   "execution_count": 19,
   "id": "1b7568df",
   "metadata": {},
   "outputs": [
    {
     "name": "stdout",
     "output_type": "stream",
     "text": [
      "270\n"
     ]
    }
   ],
   "source": [
    "outfile = open(ethanol_file, 'r')\n",
    "data = outfile.readlines()\n",
    "print(len(data))\n",
    "outfile.close()"
   ]
  },
  {
   "cell_type": "code",
   "execution_count": 13,
   "id": "f084685b",
   "metadata": {},
   "outputs": [
    {
     "name": "stdout",
     "output_type": "stream",
     "text": [
      "  @DF-RHF Final Energy:  -154.09130176573018\n",
      "\n"
     ]
    }
   ],
   "source": [
    "for line in data:\n",
    "    if 'Final Energy' in line:\n",
    "        energy_line = line\n",
    "        print(energy_line)"
   ]
  },
  {
   "cell_type": "code",
   "execution_count": 14,
   "id": "b25f7d80",
   "metadata": {},
   "outputs": [
    {
     "name": "stdout",
     "output_type": "stream",
     "text": [
      "['@DF-RHF', 'Final', 'Energy:', '-154.09130176573018']\n"
     ]
    }
   ],
   "source": [
    "words = energy_line.split()\n",
    "print(words)"
   ]
  },
  {
   "cell_type": "code",
   "execution_count": 16,
   "id": "77c054a0",
   "metadata": {},
   "outputs": [
    {
     "name": "stdout",
     "output_type": "stream",
     "text": [
      "-154.09130176573018\n"
     ]
    }
   ],
   "source": [
    "energy = words[3]\n",
    "print(energy)"
   ]
  },
  {
   "cell_type": "code",
   "execution_count": 17,
   "id": "6e159995",
   "metadata": {},
   "outputs": [
    {
     "data": {
      "text/plain": [
       "str"
      ]
     },
     "execution_count": 17,
     "metadata": {},
     "output_type": "execute_result"
    }
   ],
   "source": [
    "type(energy)"
   ]
  },
  {
   "cell_type": "code",
   "execution_count": 18,
   "id": "3969f06e",
   "metadata": {},
   "outputs": [],
   "source": [
    "energy = float(energy)"
   ]
  },
  {
   "cell_type": "code",
   "execution_count": 20,
   "id": "136b92d9",
   "metadata": {},
   "outputs": [],
   "source": [
    "import glob"
   ]
  },
  {
   "cell_type": "code",
   "execution_count": 21,
   "id": "723b8510",
   "metadata": {},
   "outputs": [
    {
     "name": "stdout",
     "output_type": "stream",
     "text": [
      "data\\outfiles\\*.out\n"
     ]
    }
   ],
   "source": [
    "file_location = os.path.join('data', 'outfiles', '*.out')\n",
    "print(file_location)"
   ]
  },
  {
   "cell_type": "code",
   "execution_count": 23,
   "id": "0eb55a7f",
   "metadata": {},
   "outputs": [
    {
     "name": "stdout",
     "output_type": "stream",
     "text": [
      "['data\\\\outfiles\\\\butanol.out', 'data\\\\outfiles\\\\decanol.out', 'data\\\\outfiles\\\\ethanol.out', 'data\\\\outfiles\\\\heptanol.out', 'data\\\\outfiles\\\\hexanol.out', 'data\\\\outfiles\\\\methanol.out', 'data\\\\outfiles\\\\nonanol.out', 'data\\\\outfiles\\\\octanol.out', 'data\\\\outfiles\\\\pentanol.out', 'data\\\\outfiles\\\\propanol.out']\n"
     ]
    }
   ],
   "source": [
    "filenames = glob.glob(file_location)\n",
    "print(filenames)"
   ]
  },
  {
   "cell_type": "code",
   "execution_count": 24,
   "id": "637e7480",
   "metadata": {},
   "outputs": [
    {
     "name": "stdout",
     "output_type": "stream",
     "text": [
      "-232.1655798347283\n",
      "-466.3836241400086\n",
      "-154.09130176573018\n",
      "-349.27397687072676\n",
      "-310.2385332251633\n",
      "-115.04800861868374\n",
      "-427.3465180082815\n",
      "-388.3110864554743\n",
      "-271.20138119895074\n",
      "-193.12836249728798\n"
     ]
    }
   ],
   "source": [
    "for file in filenames:\n",
    "    outfile = open(file,'r')\n",
    "    data = outfile.readlines()\n",
    "    outfile.close()\n",
    "    for line in data:\n",
    "        if 'Final Energy' in line:\n",
    "            energy_line = line\n",
    "            words = energy_line.split()\n",
    "            energy = float(words[3])\n",
    "            print(energy)"
   ]
  },
  {
   "cell_type": "code",
   "execution_count": 25,
   "id": "4d9f350b",
   "metadata": {},
   "outputs": [
    {
     "name": "stdout",
     "output_type": "stream",
     "text": [
      "data\\outfiles\\butanol.out\n"
     ]
    }
   ],
   "source": [
    "first_file = filenames[0]\n",
    "print(first_file)"
   ]
  },
  {
   "cell_type": "code",
   "execution_count": 26,
   "id": "86c4fa62",
   "metadata": {},
   "outputs": [
    {
     "name": "stdout",
     "output_type": "stream",
     "text": [
      "butanol.out\n"
     ]
    }
   ],
   "source": [
    "file_name = os.path.basename(first_file)\n",
    "print(file_name)"
   ]
  },
  {
   "cell_type": "code",
   "execution_count": 27,
   "id": "b2f18ab8",
   "metadata": {},
   "outputs": [],
   "source": [
    "# Using the commands you already know, parse file_name to get *just* the molecule name"
   ]
  },
  {
   "cell_type": "code",
   "execution_count": 29,
   "id": "8b82e545",
   "metadata": {},
   "outputs": [
    {
     "name": "stdout",
     "output_type": "stream",
     "text": [
      "butanol\n"
     ]
    }
   ],
   "source": [
    "molecule_name = file_name.split('.')[0]\n",
    "print(molecule_name)"
   ]
  },
  {
   "cell_type": "code",
   "execution_count": 33,
   "id": "22464bc7",
   "metadata": {},
   "outputs": [
    {
     "name": "stdout",
     "output_type": "stream",
     "text": [
      "butanol \t -232.17\n",
      "decanol \t -466.38\n",
      "ethanol \t -154.09\n",
      "heptanol \t -349.27\n",
      "hexanol \t -310.24\n",
      "methanol \t -115.05\n",
      "nonanol \t -427.35\n",
      "octanol \t -388.31\n",
      "pentanol \t -271.20\n",
      "propanol \t -193.13\n"
     ]
    }
   ],
   "source": [
    "for file in filenames:\n",
    "    file_name = os.path.basename(file)\n",
    "    molecule_name = file_name.split('.')[0]\n",
    "    outfile = open(file,'r')\n",
    "    data = outfile.readlines()\n",
    "    outfile.close()\n",
    "    for line in data:\n",
    "        if 'Final Energy' in line:\n",
    "            energy_line = line\n",
    "            words = energy_line.split()\n",
    "            energy = float(words[3])\n",
    "            print(F'{molecule_name} \\t {energy:.2f}')"
   ]
  },
  {
   "cell_type": "code",
   "execution_count": 35,
   "id": "f702c658",
   "metadata": {},
   "outputs": [],
   "source": [
    "datafile = open('energies.txt', 'w+')\n",
    "for file in filenames:\n",
    "    file_name = os.path.basename(file)\n",
    "    molecule_name = file_name.split('.')[0]\n",
    "    outfile = open(file,'r')\n",
    "    data = outfile.readlines()\n",
    "    outfile.close()\n",
    "    for line in data:\n",
    "        if 'Final Energy' in line:\n",
    "            energy_line = line\n",
    "            words = energy_line.split()\n",
    "            energy = float(words[3])\n",
    "            datafile.write(F'{molecule_name} \\t {energy:.2f} \\n')\n",
    "datafile.close()"
   ]
  },
  {
   "cell_type": "code",
   "execution_count": null,
   "id": "52855699",
   "metadata": {},
   "outputs": [],
   "source": []
  }
 ],
 "metadata": {
  "kernelspec": {
   "display_name": "Python 3",
   "language": "python",
   "name": "python3"
  },
  "language_info": {
   "codemirror_mode": {
    "name": "ipython",
    "version": 3
   },
   "file_extension": ".py",
   "mimetype": "text/x-python",
   "name": "python",
   "nbconvert_exporter": "python",
   "pygments_lexer": "ipython3",
   "version": "3.8.8"
  }
 },
 "nbformat": 4,
 "nbformat_minor": 5
}
