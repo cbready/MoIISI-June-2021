{
 "cells": [
  {
   "cell_type": "markdown",
   "id": "f0ee4167",
   "metadata": {},
   "source": [
    "# Introduction\n",
    "This is my notebook from the MERCYURY MoISSI programming workshop."
   ]
  },
  {
   "cell_type": "code",
   "execution_count": 1,
   "id": "06ced7e0",
   "metadata": {},
   "outputs": [
    {
     "data": {
      "text/plain": [
       "10"
      ]
     },
     "execution_count": 1,
     "metadata": {},
     "output_type": "execute_result"
    }
   ],
   "source": [
    "3 + 7"
   ]
  },
  {
   "cell_type": "code",
   "execution_count": 2,
   "id": "8909476b",
   "metadata": {},
   "outputs": [],
   "source": [
    "# variable_name = value\n",
    "deltaH = -541.5     # kJ/mole\n",
    "deltaS = 10.4       # kJ/(mole K)\n",
    "temperature = 298   # Kelvin\n",
    "deltaG = deltaH - temperature*deltaS"
   ]
  },
  {
   "cell_type": "code",
   "execution_count": 3,
   "id": "9faf3f32",
   "metadata": {},
   "outputs": [
    {
     "name": "stdout",
     "output_type": "stream",
     "text": [
      "-3640.7000000000003\n"
     ]
    }
   ],
   "source": [
    "print(deltaG)"
   ]
  },
  {
   "cell_type": "code",
   "execution_count": 4,
   "id": "f5742337",
   "metadata": {},
   "outputs": [
    {
     "name": "stdout",
     "output_type": "stream",
     "text": [
      "-3640.7000000000003\n"
     ]
    }
   ],
   "source": [
    "deltaG*1000\n",
    "print(deltaG)"
   ]
  },
  {
   "cell_type": "code",
   "execution_count": 5,
   "id": "d57c087b",
   "metadata": {},
   "outputs": [
    {
     "name": "stdout",
     "output_type": "stream",
     "text": [
      "-3640.7000000000003\n",
      "-3640700.0000000005\n"
     ]
    }
   ],
   "source": [
    "deltaG_joules = deltaG*1000\n",
    "print(deltaG)\n",
    "print(deltaG_joules)"
   ]
  },
  {
   "cell_type": "code",
   "execution_count": 6,
   "id": "47b89593",
   "metadata": {},
   "outputs": [
    {
     "name": "stdout",
     "output_type": "stream",
     "text": [
      "-3640.7000000000003\n"
     ]
    }
   ],
   "source": [
    "deltaH, deltaS, temperature = -541.5, 10.4, 298\n",
    "deltaG - deltaH - temperature*deltaS\n",
    "print(deltaG)"
   ]
  },
  {
   "cell_type": "markdown",
   "id": "3542f3bc",
   "metadata": {},
   "source": [
    "## Data types"
   ]
  },
  {
   "cell_type": "code",
   "execution_count": 7,
   "id": "c37d5a98",
   "metadata": {},
   "outputs": [
    {
     "data": {
      "text/plain": [
       "float"
      ]
     },
     "execution_count": 7,
     "metadata": {},
     "output_type": "execute_result"
    }
   ],
   "source": [
    "type(deltaG)"
   ]
  },
  {
   "cell_type": "code",
   "execution_count": 9,
   "id": "9290f4db",
   "metadata": {},
   "outputs": [],
   "source": [
    "deltaG_string = str(deltaG) #recasting"
   ]
  },
  {
   "cell_type": "code",
   "execution_count": 10,
   "id": "04aa3918",
   "metadata": {},
   "outputs": [
    {
     "data": {
      "text/plain": [
       "str"
      ]
     },
     "execution_count": 10,
     "metadata": {},
     "output_type": "execute_result"
    }
   ],
   "source": [
    "type(deltaG_string)"
   ]
  },
  {
   "cell_type": "code",
   "execution_count": 11,
   "id": "2a5bc876",
   "metadata": {},
   "outputs": [
    {
     "name": "stdout",
     "output_type": "stream",
     "text": [
      "-3640.7000000000003\n"
     ]
    }
   ],
   "source": [
    "print(deltaG_string)"
   ]
  },
  {
   "cell_type": "code",
   "execution_count": 12,
   "id": "f2a48acf",
   "metadata": {},
   "outputs": [
    {
     "ename": "TypeError",
     "evalue": "can only concatenate str (not \"int\") to str",
     "output_type": "error",
     "traceback": [
      "\u001b[1;31m---------------------------------------------------------------------------\u001b[0m",
      "\u001b[1;31mTypeError\u001b[0m                                 Traceback (most recent call last)",
      "\u001b[1;32m<ipython-input-12-5d9d80712449>\u001b[0m in \u001b[0;36m<module>\u001b[1;34m\u001b[0m\n\u001b[1;32m----> 1\u001b[1;33m \u001b[0mdeltaG_string\u001b[0m \u001b[1;33m+\u001b[0m \u001b[1;36m200\u001b[0m\u001b[1;33m\u001b[0m\u001b[1;33m\u001b[0m\u001b[0m\n\u001b[0m",
      "\u001b[1;31mTypeError\u001b[0m: can only concatenate str (not \"int\") to str"
     ]
    }
   ],
   "source": [
    "deltaG_string + 200"
   ]
  },
  {
   "cell_type": "markdown",
   "id": "8d406fb4",
   "metadata": {},
   "source": [
    "## Lists"
   ]
  },
  {
   "cell_type": "code",
   "execution_count": 13,
   "id": "0510f385",
   "metadata": {},
   "outputs": [],
   "source": [
    "energy_kcal = [-13.4, -2.7, 5.4, 42.1]"
   ]
  },
  {
   "cell_type": "code",
   "execution_count": 14,
   "id": "a16397df",
   "metadata": {},
   "outputs": [],
   "source": [
    "energy_length = len(energy_kcal)"
   ]
  },
  {
   "cell_type": "code",
   "execution_count": 15,
   "id": "a493a402",
   "metadata": {},
   "outputs": [
    {
     "name": "stdout",
     "output_type": "stream",
     "text": [
      "4\n"
     ]
    }
   ],
   "source": [
    "print(energy_length)"
   ]
  },
  {
   "cell_type": "code",
   "execution_count": 16,
   "id": "f338b6f1",
   "metadata": {},
   "outputs": [
    {
     "name": "stdout",
     "output_type": "stream",
     "text": [
      "The length of my list is 4\n"
     ]
    }
   ],
   "source": [
    "print('The length of my list is', energy_length)"
   ]
  },
  {
   "cell_type": "code",
   "execution_count": 18,
   "id": "4f8f97f9",
   "metadata": {},
   "outputs": [
    {
     "name": "stdout",
     "output_type": "stream",
     "text": [
      "The length of my list is 4.\n"
     ]
    }
   ],
   "source": [
    "print(F'The length of my list is {energy_length}.')"
   ]
  },
  {
   "cell_type": "code",
   "execution_count": 19,
   "id": "a43bf552",
   "metadata": {},
   "outputs": [
    {
     "name": "stdout",
     "output_type": "stream",
     "text": [
      "[-13.4, -2.7, 5.4, 42.1]\n"
     ]
    }
   ],
   "source": [
    "print(energy_kcal)"
   ]
  },
  {
   "cell_type": "code",
   "execution_count": 20,
   "id": "d32ac5c7",
   "metadata": {},
   "outputs": [
    {
     "name": "stdout",
     "output_type": "stream",
     "text": [
      "-2.7\n"
     ]
    }
   ],
   "source": [
    "print(energy_kcal[1])"
   ]
  },
  {
   "cell_type": "code",
   "execution_count": 21,
   "id": "f827efbe",
   "metadata": {},
   "outputs": [
    {
     "name": "stdout",
     "output_type": "stream",
     "text": [
      "-11.296800000000001\n"
     ]
    }
   ],
   "source": [
    "energy_kilojoules = energy_kcal[1]*4.184\n",
    "print(energy_kilojoules)"
   ]
  },
  {
   "cell_type": "markdown",
   "id": "2ee61ef0",
   "metadata": {},
   "source": [
    "## Taking slices"
   ]
  },
  {
   "cell_type": "code",
   "execution_count": 22,
   "id": "0cc5119f",
   "metadata": {},
   "outputs": [],
   "source": [
    "# new_list = list_name[start:end]"
   ]
  },
  {
   "cell_type": "code",
   "execution_count": 23,
   "id": "0b20ad59",
   "metadata": {},
   "outputs": [
    {
     "name": "stdout",
     "output_type": "stream",
     "text": [
      "[-13.4, -2.7]\n"
     ]
    }
   ],
   "source": [
    "short_list = energy_kcal[0:2]\n",
    "print(short_list)"
   ]
  },
  {
   "cell_type": "code",
   "execution_count": 24,
   "id": "fef2d8f5",
   "metadata": {},
   "outputs": [
    {
     "name": "stdout",
     "output_type": "stream",
     "text": [
      "slice1 is [-2.7, 5.4, 42.1]\n",
      "slice2 is [-13.4, -2.7, 5.4]\n"
     ]
    }
   ],
   "source": [
    "slice1 = energy_kcal[1:]\n",
    "slice2 = energy_kcal[:3]\n",
    "print(F'slice1 is {slice1}')\n",
    "print(F'slice2 is {slice2}')"
   ]
  },
  {
   "cell_type": "code",
   "execution_count": 25,
   "id": "1acffe6d",
   "metadata": {},
   "outputs": [
    {
     "name": "stdout",
     "output_type": "stream",
     "text": [
      "-56.0656\n",
      "-11.296800000000001\n",
      "22.593600000000002\n",
      "176.1464\n"
     ]
    }
   ],
   "source": [
    "#for variable in list:\n",
    "#    do things using variable\n",
    "\n",
    "for number in energy_kcal:\n",
    "    kJ = number*4.184\n",
    "    print(kJ)"
   ]
  },
  {
   "cell_type": "code",
   "execution_count": 27,
   "id": "2caba19a",
   "metadata": {},
   "outputs": [],
   "source": [
    "#list_name.append(new_thing)\n",
    "\n",
    "energy_kJ = []\n",
    "\n",
    "for number in energy_kcal:\n",
    "    kJ = number*4.184\n",
    "    energy_kJ.append(kJ)"
   ]
  },
  {
   "cell_type": "code",
   "execution_count": 28,
   "id": "57574be8",
   "metadata": {},
   "outputs": [
    {
     "name": "stdout",
     "output_type": "stream",
     "text": [
      "[-56.0656, -11.296800000000001, 22.593600000000002, 176.1464]\n"
     ]
    }
   ],
   "source": [
    "print(energy_kJ)"
   ]
  },
  {
   "cell_type": "markdown",
   "id": "86a5f98b",
   "metadata": {},
   "source": [
    "## Making choices using logic in a for loop"
   ]
  },
  {
   "cell_type": "code",
   "execution_count": 29,
   "id": "04a94218",
   "metadata": {},
   "outputs": [
    {
     "name": "stdout",
     "output_type": "stream",
     "text": [
      "[-56.0656, -11.296800000000001]\n"
     ]
    }
   ],
   "source": [
    "negative_energy = []\n",
    "for number in energy_kJ:\n",
    "    if (number < 0):\n",
    "        negative_energy.append(number)\n",
    "        \n",
    "print(negative_energy)"
   ]
  },
  {
   "cell_type": "markdown",
   "id": "2314cb4b",
   "metadata": {},
   "source": [
    "Other conditions I can use\n",
    "- equal to ==\n",
    "- not equal to !=\n",
    "- greater than >\n",
    "- less than <\n",
    "- greater than or equal to >=\n",
    "- less than or equal to <=\n",
    "\n",
    "I can also use and, or and not to check more than one condition"
   ]
  },
  {
   "cell_type": "code",
   "execution_count": 30,
   "id": "c3c636be",
   "metadata": {},
   "outputs": [
    {
     "name": "stdout",
     "output_type": "stream",
     "text": [
      "[-56.0656, -11.296800000000001]\n"
     ]
    }
   ],
   "source": [
    "negative_energy = []\n",
    "for number in energy_kJ:\n",
    "    if (number < 0) or number == 0:\n",
    "        negative_energy.append(number)\n",
    "        \n",
    "print(negative_energy)"
   ]
  },
  {
   "cell_type": "markdown",
   "id": "697ff6dc",
   "metadata": {},
   "source": []
  },
  {
   "cell_type": "code",
   "execution_count": null,
   "id": "619e516d",
   "metadata": {},
   "outputs": [],
   "source": []
  }
 ],
 "metadata": {
  "kernelspec": {
   "display_name": "Python 3",
   "language": "python",
   "name": "python3"
  },
  "language_info": {
   "codemirror_mode": {
    "name": "ipython",
    "version": 3
   },
   "file_extension": ".py",
   "mimetype": "text/x-python",
   "name": "python",
   "nbconvert_exporter": "python",
   "pygments_lexer": "ipython3",
   "version": "3.8.8"
  }
 },
 "nbformat": 4,
 "nbformat_minor": 5
}
