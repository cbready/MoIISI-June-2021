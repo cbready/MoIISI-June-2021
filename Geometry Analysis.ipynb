{
 "cells": [
  {
   "cell_type": "markdown",
   "id": "f58b6a4e",
   "metadata": {},
   "source": [
    "# Homwork 2\n",
    "You will be analyzing an xyz file for water (water.xyz) and measuring the distances between all the atoms in the molecule. The file is located in the data folder of your workshop material. The output of your code should look like this.\n",
    "\n",
    "O to O : 0.0\n",
    "O to H1 : 0.969\n",
    "O to H2 : 0.969\n",
    "H1 to O : 0.969\n",
    "H1 to H1 : 0.0\n",
    "H1 to H2 : 1.527\n",
    "H2 to O : 0.969\n",
    "H2 to H1 : 1.527\n",
    "H2 to H2 : 0.0\n",
    "\n",
    "Will need to use the distance formula.\n",
    "\n",
    "$$distance = \\sqrt{(x1-x2)^2 + (y1-y2)^2 + (z1-z2)^2}\n",
    "\n",
    "As you can see you will need to square stuff and take the square root. To take the square root, you will use a function from numpy: numpy.sqrt(). To square something, use ** notion. As in 3**2 = 9."
   ]
  },
  {
   "cell_type": "code",
   "execution_count": 1,
   "id": "109b5c87",
   "metadata": {},
   "outputs": [],
   "source": [
    "import os\n",
    "import numpy"
   ]
  },
  {
   "cell_type": "code",
   "execution_count": 2,
   "id": "463141cb",
   "metadata": {},
   "outputs": [
    {
     "name": "stdout",
     "output_type": "stream",
     "text": [
      "data\\water.xyz\n"
     ]
    }
   ],
   "source": [
    "file = os.path.join(\"data\",\"water.xyz\")\n",
    "print(file)"
   ]
  },
  {
   "cell_type": "code",
   "execution_count": 3,
   "id": "28e4eaf0",
   "metadata": {},
   "outputs": [],
   "source": [
    "outfile = open(file,'r')\n",
    "data = outfile.readlines()\n",
    "outfile.close()"
   ]
  },
  {
   "cell_type": "code",
   "execution_count": 4,
   "id": "2bfe7daf",
   "metadata": {},
   "outputs": [],
   "source": [
    "lengths = open('Bond_lengths.txt','w+')"
   ]
  },
  {
   "cell_type": "code",
   "execution_count": 5,
   "id": "82a2edc4",
   "metadata": {},
   "outputs": [
    {
     "name": "stdout",
     "output_type": "stream",
     "text": [
      "[['O' '0.000000' '-0.007156' '0.965491']\n",
      " ['H1' '-0.000000' '0.001486' '-0.003471']\n",
      " ['H2' '0.000000' '0.931026' '1.207929']]\n"
     ]
    }
   ],
   "source": [
    "xyz_file = numpy.genfromtxt(fname=file, dtype='unicode', skip_header=2)\n",
    "print(xyz_file)"
   ]
  },
  {
   "cell_type": "code",
   "execution_count": 6,
   "id": "73fc580d",
   "metadata": {},
   "outputs": [],
   "source": [
    "symbols = xyz_file[:,0]\n",
    "coordinates = xyz_file[:,1:]\n",
    "coordinates = coordinates.astype(float)"
   ]
  },
  {
   "cell_type": "code",
   "execution_count": 7,
   "id": "e38eec29",
   "metadata": {},
   "outputs": [],
   "source": [
    "# not needed\n",
    "oxygen = coordinates[0,:]\n",
    "hydrogen1 = coordinates[1,:]\n",
    "hydrogen2 = coordinates[2,:]"
   ]
  },
  {
   "cell_type": "code",
   "execution_count": 9,
   "id": "a9812cad",
   "metadata": {},
   "outputs": [
    {
     "name": "stdout",
     "output_type": "stream",
     "text": [
      "O to O : 0.000\n",
      "O to H1 : 0.969\n",
      "O to H2 : 0.969\n",
      "H1 to O : 0.969\n",
      "H1 to H1 : 0.000\n",
      "H1 to H2 : 1.527\n",
      "H2 to O : 0.969\n",
      "H2 to H1 : 1.527\n",
      "H2 to H2 : 0.000\n"
     ]
    }
   ],
   "source": [
    "num_atoms = len(symbols)\n",
    "\n",
    "for num1 in range(0,num_atoms):\n",
    "    for num2 in range(0,num_atoms):\n",
    "        x = coordinates[num1,0] - coordinates[num2,0]\n",
    "        y = coordinates[num1,1] - coordinates[num2,1]\n",
    "        z = coordinates[num1,2] - coordinates[num2,2]\n",
    "        distance = numpy.sqrt((x**2) + (y**2) + (z**2))\n",
    "        print(F'{symbols[num1]} to {symbols[num2]} : {distance:.3f}')"
   ]
  },
  {
   "cell_type": "code",
   "execution_count": 15,
   "id": "56ac6f9a",
   "metadata": {
    "scrolled": true
   },
   "outputs": [
    {
     "name": "stdout",
     "output_type": "stream",
     "text": [
      "O to H1 : 0.969\n",
      "O to H2 : 0.969\n"
     ]
    }
   ],
   "source": [
    "# Modify my code to only print atoms that are actually bonded\n",
    "# Rule: Dsitance must be less than 1.5 angstroms but above 0\n",
    "\n",
    "for num1 in range(0,num_atoms):\n",
    "    for num2 in range(0,num_atoms):\n",
    "        if num2 > num1:\n",
    "            x = coordinates[num1,0] - coordinates[num2,0]\n",
    "            y = coordinates[num1,1] - coordinates[num2,1]\n",
    "            z = coordinates[num1,2] - coordinates[num2,2]\n",
    "            distance = numpy.sqrt((x**2) + (y**2) + (z**2))\n",
    "            if (distance < 1.5 and distance > 0):\n",
    "                print(F'{symbols[num1]} to {symbols[num2]} : {distance:.3f}')"
   ]
  },
  {
   "cell_type": "markdown",
   "id": "63de136f",
   "metadata": {},
   "source": [
    "## Writing and Using Functions"
   ]
  },
  {
   "cell_type": "code",
   "execution_count": 16,
   "id": "1a03f8a5",
   "metadata": {},
   "outputs": [],
   "source": [
    "# def function_name(parameters):\n",
    "#     ** body of your function **\n",
    "#     ** write code using the parameters to calculate something **\n",
    "#     return value_to_return"
   ]
  },
  {
   "cell_type": "code",
   "execution_count": 17,
   "id": "5acb9892",
   "metadata": {},
   "outputs": [],
   "source": [
    "def calculate_distance(coords1, coords2):\n",
    "    x = coords1[0] - coords2[0]\n",
    "    y = coords1[1] - coords2[1]\n",
    "    z = coords1[2] - coords2[2]\n",
    "    distance = numpy.sqrt(x**2 + y**2 + z**2)\n",
    "    return distance"
   ]
  },
  {
   "cell_type": "code",
   "execution_count": 18,
   "id": "565dcfa9",
   "metadata": {},
   "outputs": [
    {
     "data": {
      "text/plain": [
       "1.0"
      ]
     },
     "execution_count": 18,
     "metadata": {},
     "output_type": "execute_result"
    }
   ],
   "source": [
    "calculate_distance([0,0,0], [0,0,1])"
   ]
  },
  {
   "cell_type": "code",
   "execution_count": 19,
   "id": "e49b996a",
   "metadata": {},
   "outputs": [
    {
     "name": "stdout",
     "output_type": "stream",
     "text": [
      "O to H1 : 0.969\n",
      "O to H2 : 0.969\n"
     ]
    }
   ],
   "source": [
    "for num1 in range(0,num_atoms):\n",
    "    for num2 in range(0,num_atoms):\n",
    "        if num2 > num1:\n",
    "            distance = calculate_distance(coordinates[num1], coordinates[num2])\n",
    "            if (distance < 1.5 and distance > 0):\n",
    "                print(F'{symbols[num1]} to {symbols[num2]} : {distance:.3f}')"
   ]
  },
  {
   "cell_type": "code",
   "execution_count": 20,
   "id": "ed6db98e",
   "metadata": {},
   "outputs": [],
   "source": [
    "# Write a function to check and see if a distance is a bond\n",
    "def bond_check(distance):\n",
    "    if distance > 0 and distance < 1.5:\n",
    "        return True\n",
    "    else:\n",
    "        return False"
   ]
  },
  {
   "cell_type": "code",
   "execution_count": 27,
   "id": "be6b34e5",
   "metadata": {},
   "outputs": [],
   "source": [
    "# Modify the bond check function to take a minimum and a maximum length as an input\n",
    "def bond_check(distance, minimum=0, maximum=1.5):\n",
    "    \"\"\"\n",
    "    Checks if a distance is a bond based on a minimum and a maximum\n",
    "    Inputs: distance, minimum length for bond, maximum length for bond\n",
    "    Defaults: minimum: 0 angstroms, maximum: 1.5 angstroms\n",
    "    \"\"\"\n",
    "    if distance > minimum and distance < maximum:\n",
    "        return True\n",
    "    else:\n",
    "        return False"
   ]
  },
  {
   "cell_type": "code",
   "execution_count": 22,
   "id": "635843dd",
   "metadata": {},
   "outputs": [
    {
     "data": {
      "text/plain": [
       "True"
      ]
     },
     "execution_count": 22,
     "metadata": {},
     "output_type": "execute_result"
    }
   ],
   "source": [
    "bond_check(1.7,0,2)"
   ]
  },
  {
   "cell_type": "code",
   "execution_count": 24,
   "id": "a2683407",
   "metadata": {},
   "outputs": [
    {
     "data": {
      "text/plain": [
       "False"
      ]
     },
     "execution_count": 24,
     "metadata": {},
     "output_type": "execute_result"
    }
   ],
   "source": [
    "bond_check(1.7)"
   ]
  },
  {
   "cell_type": "code",
   "execution_count": 28,
   "id": "ffa6303a",
   "metadata": {},
   "outputs": [
    {
     "name": "stdout",
     "output_type": "stream",
     "text": [
      "Help on function bond_check in module __main__:\n",
      "\n",
      "bond_check(distance, minimum=0, maximum=1.5)\n",
      "    Checks if a distance is a bond based on a minimum and a maximum\n",
      "    Inputs: distance, minimum length for bond, maximum length for bond\n",
      "    Defaults: minimum: 0 angstroms, maximum: 1.5 angstroms\n",
      "\n"
     ]
    }
   ],
   "source": [
    "help(bond_check)"
   ]
  },
  {
   "cell_type": "code",
   "execution_count": 29,
   "id": "fc18c529",
   "metadata": {},
   "outputs": [
    {
     "name": "stdout",
     "output_type": "stream",
     "text": [
      "O to H1 : 0.969\n",
      "O to H2 : 0.969\n"
     ]
    }
   ],
   "source": [
    "for num1 in range(0,num_atoms):\n",
    "    for num2 in range(0,num_atoms):\n",
    "        if num2 > num1:\n",
    "            distance = calculate_distance(coordinates[num1], coordinates[num2])\n",
    "            if bond_check(distance) is True:\n",
    "                print(F'{symbols[num1]} to {symbols[num2]} : {distance:.3f}')"
   ]
  },
  {
   "cell_type": "code",
   "execution_count": 30,
   "id": "7ad29379",
   "metadata": {},
   "outputs": [],
   "source": [
    "# Write a new function called open_xyz that opens and processes an xyz file.\n",
    "# Your function should accept a filepath for the input.\n",
    "def open_xyz(filepath):\n",
    "    \"\"\"\n",
    "    This function opens a standard xyz file.\n",
    "    It returns the atoms as strings and the coordinates as floats.\n",
    "    \"\"\"\n",
    "    data = numpy.genfromtxt(fname=filepath, dtype='unicode', skip_header=2)\n",
    "    atoms = data[:,0]\n",
    "    coordinates = data[:, 1:]\n",
    "    coordinates = coordinates.astype(float)\n",
    "    return atoms, coordinates"
   ]
  },
  {
   "cell_type": "code",
   "execution_count": 33,
   "id": "8cdecb0f",
   "metadata": {},
   "outputs": [
    {
     "name": "stdout",
     "output_type": "stream",
     "text": [
      "O to H1 : 0.969\n",
      "O to H2 : 0.969\n"
     ]
    }
   ],
   "source": [
    "import os\n",
    "import numpy\n",
    "\n",
    "def calculate_distance(coords1, coords2):\n",
    "    x = coords1[0] - coords2[0]\n",
    "    y = coords1[1] - coords2[1]\n",
    "    z = coords1[2] - coords2[2]\n",
    "    distance = numpy.sqrt(x**2 + y**2 + z**2)\n",
    "    return distance\n",
    "\n",
    "def bond_check(distance, minimum=0, maximum=1.5):\n",
    "    \"\"\"\n",
    "    Checks if a distance is a bond based on a minimum and a maximum\n",
    "    Inputs: distance, minimum length for bond, maximum length for bond\n",
    "    Defaults: minimum: 0 angstroms, maximum: 1.5 angstroms\n",
    "    \"\"\"\n",
    "    if distance > minimum and distance < maximum:\n",
    "        return True\n",
    "    else:\n",
    "        return False\n",
    "\n",
    "def open_xyz(filepath):\n",
    "    \"\"\"\n",
    "    This function opens a standard xyz file.\n",
    "    It returns the atoms as strings and the coordinates as floats.\n",
    "    \"\"\"\n",
    "    data = numpy.genfromtxt(fname=filepath, dtype='unicode', skip_header=2)\n",
    "    atoms = data[:,0]\n",
    "    coordinates = data[:, 1:]\n",
    "    coordinates = coordinates.astype(float)\n",
    "    return atoms, coordinates\n",
    "\n",
    "file_location = os.path.join('data','water.xyz')\n",
    "atoms, coordinates = open_xyz(file_location) \n",
    "num_atoms = len(atoms)\n",
    "for num1 in range(0, num_atoms):\n",
    "    for num2 in range(num1, num_atoms):\n",
    "        distance = calculate_distance(coordinates[num1], coordinates[num2])\n",
    "        if bond_check(distance) is True:\n",
    "            print(F'{atoms[num1]} to {atoms[num2]} : {distance:.3f}')"
   ]
  },
  {
   "cell_type": "code",
   "execution_count": 35,
   "id": "56255105",
   "metadata": {},
   "outputs": [],
   "source": [
    "import Geometry_Analysis"
   ]
  },
  {
   "cell_type": "code",
   "execution_count": 37,
   "id": "ccfb32a1",
   "metadata": {},
   "outputs": [
    {
     "data": {
      "text/plain": [
       "1.0"
      ]
     },
     "execution_count": 37,
     "metadata": {},
     "output_type": "execute_result"
    }
   ],
   "source": [
    "Geometry_Analysis.calculate_distance([0,0,0], [0,0,1])"
   ]
  },
  {
   "cell_type": "code",
   "execution_count": null,
   "id": "4dae4dbe",
   "metadata": {},
   "outputs": [],
   "source": []
  }
 ],
 "metadata": {
  "kernelspec": {
   "display_name": "Python 3",
   "language": "python",
   "name": "python3"
  },
  "language_info": {
   "codemirror_mode": {
    "name": "ipython",
    "version": 3
   },
   "file_extension": ".py",
   "mimetype": "text/x-python",
   "name": "python",
   "nbconvert_exporter": "python",
   "pygments_lexer": "ipython3",
   "version": "3.8.8"
  }
 },
 "nbformat": 4,
 "nbformat_minor": 5
}
